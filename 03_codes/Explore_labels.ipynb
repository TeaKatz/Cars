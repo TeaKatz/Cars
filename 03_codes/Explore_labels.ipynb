{
 "cells": [
  {
   "cell_type": "markdown",
   "metadata": {},
   "source": [
    "### Summary \n",
    "1.cars_train_annos (train set)  \n",
    "2.cars_test_annos_withlabels (test set)  \n",
    "3.cars_meta (classes mapping)"
   ]
  },
  {
   "cell_type": "code",
   "execution_count": 1,
   "metadata": {},
   "outputs": [],
   "source": [
    "import scipy.io\n",
    "import os\n",
    "import numpy as np"
   ]
  },
  {
   "cell_type": "code",
   "execution_count": 2,
   "metadata": {},
   "outputs": [],
   "source": [
    "DATASET_DIR = \"../01_inputs/dataset\"\n",
    "\n",
    "car_annos = os.path.join(DATASET_DIR, \"cars_annos.mat\")\n",
    "cars_test_annos_withlabels = os.path.join(DATASET_DIR, \"cars_test_annos_withlabels.mat\")\n",
    "bmw10_annos = os.path.join(DATASET_DIR, \"bmw10_release/bmw10_annos.mat\")\n",
    "cars_meta = os.path.join(DATASET_DIR, \"car_devkit/devkit/cars_meta.mat\")\n",
    "cars_test_annos = os.path.join(DATASET_DIR, \"car_devkit/devkit/cars_test_annos.mat\")\n",
    "cars_train_annos = os.path.join(DATASET_DIR, \"car_devkit/devkit/cars_train_annos.mat\")\n",
    "\n",
    "assert os.path.isfile(car_annos)\n",
    "assert os.path.isfile(cars_test_annos_withlabels)\n",
    "assert os.path.isfile(bmw10_annos)\n",
    "assert os.path.isfile(cars_meta)\n",
    "assert os.path.isfile(cars_test_annos)\n",
    "assert os.path.isfile(cars_train_annos)"
   ]
  },
  {
   "cell_type": "code",
   "execution_count": 3,
   "metadata": {},
   "outputs": [
    {
     "name": "stdout",
     "output_type": "stream",
     "text": [
      "dict_keys(['__header__', '__version__', '__globals__', 'annotations', 'class_names'])\n",
      "(16185,)\n",
      "(array(['car_ims/000001.jpg'], dtype='<U18'), array([[112]], dtype=uint8), array([[7]], dtype=uint8), array([[853]], dtype=uint16), array([[717]], dtype=uint16), array([[1]], dtype=uint8), array([[0]], dtype=uint8))\n"
     ]
    }
   ],
   "source": [
    "# car_annos\n",
    "mat = scipy.io.loadmat(car_annos)\n",
    "\"\"\"\n",
    "dataset:\n",
    "dataset/car_ims\n",
    "keys:\n",
    "1.annotations\n",
    "2.class_names\n",
    "annotations index:\n",
    "1.filename\n",
    "2.box_x1\n",
    "3.box_y1\n",
    "4.box_x2\n",
    "5.box_y2\n",
    "6.class\n",
    "7.train/test set\n",
    "\"\"\"\n",
    "print(mat.keys())\n",
    "print(mat[\"annotations\"].ravel().shape)\n",
    "print(mat[\"annotations\"].ravel()[0])"
   ]
  },
  {
   "cell_type": "code",
   "execution_count": 4,
   "metadata": {},
   "outputs": [
    {
     "name": "stdout",
     "output_type": "stream",
     "text": [
      "dict_keys(['__header__', '__version__', '__globals__', 'annotations'])\n",
      "(8041,)\n",
      "(array([[30]], dtype=uint8), array([[52]], dtype=uint8), array([[246]], dtype=uint8), array([[147]], dtype=uint8), array([[181]], dtype=uint8), array(['00001.jpg'], dtype='<U9'))\n"
     ]
    }
   ],
   "source": [
    "# cars_test_annos_withlabels\n",
    "mat = scipy.io.loadmat(cars_test_annos_withlabels)\n",
    "\"\"\"\n",
    "dataset:\n",
    "dataset/car_test\n",
    "keys:\n",
    "1.annotations\n",
    "annotations index:\n",
    "1.box_x1\n",
    "2.box_y1\n",
    "3.box_x2\n",
    "4.box_y2\n",
    "5.class\n",
    "6.filename\n",
    "\"\"\"\n",
    "print(mat.keys())\n",
    "print(mat[\"annotations\"].ravel().shape)\n",
    "print(mat[\"annotations\"].ravel()[0])"
   ]
  },
  {
   "cell_type": "code",
   "execution_count": 5,
   "metadata": {},
   "outputs": [
    {
     "name": "stdout",
     "output_type": "stream",
     "text": [
      "dict_keys(['__header__', '__version__', '__globals__', 'train_indices', 'test_indices', 'annos'])\n",
      "(512,)\n",
      "(array(['10/150302307.thumb.jpg'], dtype='<U22'), array([[9]], dtype=uint8), array([[42]]), array([[217]]), array([[32]]), array([[163]]), array([[183]], dtype=uint8), array([[275]], dtype=uint16))\n"
     ]
    }
   ],
   "source": [
    "# bmw10_annos\n",
    "mat = scipy.io.loadmat(bmw10_annos)\n",
    "\"\"\"\n",
    "keys:\n",
    "1.train_indices\n",
    "2.test_indices\n",
    "3.annos\n",
    "annotations index:\n",
    "1.filename\n",
    "2.class???\n",
    "3.box_x1\n",
    "4.box_x2\n",
    "5.box_y1\n",
    "6.box_y2\n",
    "7.size_y\n",
    "8.size_x\n",
    "\"\"\"\n",
    "print(mat.keys())\n",
    "print(mat[\"annos\"].ravel().shape)\n",
    "print(mat[\"annos\"].ravel()[0])"
   ]
  },
  {
   "cell_type": "code",
   "execution_count": 6,
   "metadata": {},
   "outputs": [
    {
     "name": "stdout",
     "output_type": "stream",
     "text": [
      "dict_keys(['__header__', '__version__', '__globals__', 'class_names'])\n",
      "(196,)\n",
      "['AM General Hummer SUV 2000']\n"
     ]
    }
   ],
   "source": [
    "# cars_meta\n",
    "mat = scipy.io.loadmat(cars_meta)\n",
    "\"\"\"\n",
    "keys:\n",
    "1.class_names\n",
    "class_names index:\n",
    "1.class_names\n",
    "\"\"\"\n",
    "print(mat.keys())\n",
    "print(mat[\"class_names\"].ravel().shape)\n",
    "print(mat[\"class_names\"].ravel()[0])"
   ]
  },
  {
   "cell_type": "code",
   "execution_count": 7,
   "metadata": {},
   "outputs": [
    {
     "name": "stdout",
     "output_type": "stream",
     "text": [
      "dict_keys(['__header__', '__version__', '__globals__', 'annotations'])\n",
      "(8041,)\n",
      "(array([[30]], dtype=uint8), array([[52]], dtype=uint8), array([[246]], dtype=uint8), array([[147]], dtype=uint8), array(['00001.jpg'], dtype='<U9'))\n"
     ]
    }
   ],
   "source": [
    "# cars_test_annos\n",
    "mat = scipy.io.loadmat(cars_test_annos)\n",
    "\"\"\"\n",
    "dataset:\n",
    "dataset/car_test\n",
    "keys:\n",
    "1.annotations\n",
    "annotations index:\n",
    "1.box_x1\n",
    "2.box_y1\n",
    "3.box_x2\n",
    "4.box_y2\n",
    "5.filename\n",
    "\"\"\"\n",
    "print(mat.keys())\n",
    "print(mat[\"annotations\"].ravel().shape)\n",
    "print(mat[\"annotations\"].ravel()[0])"
   ]
  },
  {
   "cell_type": "code",
   "execution_count": 8,
   "metadata": {},
   "outputs": [
    {
     "name": "stdout",
     "output_type": "stream",
     "text": [
      "dict_keys(['__header__', '__version__', '__globals__', 'annotations'])\n",
      "(8144,)\n",
      "(array([[39]], dtype=uint8), array([[116]], dtype=uint8), array([[569]], dtype=uint16), array([[375]], dtype=uint16), array([[14]], dtype=uint8), array(['00001.jpg'], dtype='<U9'))\n"
     ]
    }
   ],
   "source": [
    "# cars_train_annos\n",
    "mat = scipy.io.loadmat(cars_train_annos)\n",
    "\"\"\"\n",
    "dataset:\n",
    "dataset/car_train\n",
    "keys:\n",
    "1.annotations\n",
    "annotations index:\n",
    "1.box_x1\n",
    "2.box_y1\n",
    "3.box_x2\n",
    "4.box_y2\n",
    "5.class\n",
    "6.filename\n",
    "\"\"\"\n",
    "print(mat.keys())\n",
    "print(mat[\"annotations\"].ravel().shape)\n",
    "print(mat[\"annotations\"].ravel()[0])"
   ]
  },
  {
   "cell_type": "markdown",
   "metadata": {},
   "source": [
    "### We should use labels:  \n",
    "1.cars_train_annos (train set)  \n",
    "2.cars_test_annos_withlabels (test set)  \n",
    "3.cars_meta (classes mapping)"
   ]
  },
  {
   "cell_type": "code",
   "execution_count": 9,
   "metadata": {},
   "outputs": [],
   "source": [
    "from libs import load_annotations, load_classes"
   ]
  },
  {
   "cell_type": "code",
   "execution_count": 10,
   "metadata": {},
   "outputs": [],
   "source": [
    "train_annos = load_annotations(cars_train_annos)\n",
    "test_annos = load_annotations(cars_test_annos_withlabels)\n",
    "class_names = load_classes(cars_meta)"
   ]
  },
  {
   "cell_type": "code",
   "execution_count": 11,
   "metadata": {},
   "outputs": [],
   "source": [
    "import seaborn as sns"
   ]
  },
  {
   "cell_type": "code",
   "execution_count": 14,
   "metadata": {},
   "outputs": [
    {
     "data": {
      "image/png": "[encoded data removed]",
      "text/plain": [
       "<Figure size 432x288 with 1 Axes>"
      ]
     },
     "metadata": {
      "needs_background": "light"
     },
     "output_type": "display_data"
    }
   ],
   "source": [
    "ax = sns.distplot((train_annos[2]))"
   ]
  },
  {
   "cell_type": "code",
   "execution_count": 13,
   "metadata": {},
   "outputs": [
    {
     "data": {
      "image/png": "[encoded data removed]",
      "text/plain": [
       "<Figure size 432x288 with 1 Axes>"
      ]
     },
     "metadata": {
      "needs_background": "light"
     },
     "output_type": "display_data"
    }
   ],
   "source": [
    "ax = sns.distplot((test_annos[2]))"
   ]
  },
  {
   "cell_type": "markdown",
   "metadata": {},
   "source": [
    "### Classes are quite balanced."
   ]
  }
 ],
 "metadata": {
  "kernelspec": {
   "display_name": "Python 3",
   "language": "python",
   "name": "python3"
  },
  "language_info": {
   "codemirror_mode": {
    "name": "ipython",
    "version": 3
   },
   "file_extension": ".py",
   "mimetype": "text/x-python",
   "name": "python",
   "nbconvert_exporter": "python",
   "pygments_lexer": "ipython3",
   "version": "3.6.7"
  }
 },
 "nbformat": 4,
 "nbformat_minor": 2
}
