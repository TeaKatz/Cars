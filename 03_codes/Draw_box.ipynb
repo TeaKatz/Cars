{
 "cells": [
  {
   "cell_type": "code",
   "execution_count": 1,
   "metadata": {},
   "outputs": [],
   "source": [
    "import scipy.io\n",
    "import os\n",
    "import cv2\n",
    "import numpy as np\n",
    "from libs import load_annotations, crop_image"
   ]
  },
  {
   "cell_type": "code",
   "execution_count": 2,
   "metadata": {},
   "outputs": [],
   "source": [
    "DATASET_DIR = \"../01_inputs/dataset\"\n",
    "OUTPUT_DIR = \"../02_outputs\"\n",
    "\n",
    "cars_meta = os.path.join(DATASET_DIR, \"car_devkit/devkit/cars_meta.mat\")\n",
    "cars_test_annos = os.path.join(DATASET_DIR, \"cars_test_annos_withlabels.mat\")\n",
    "cars_train_annos = os.path.join(DATASET_DIR, \"car_devkit/devkit/cars_train_annos.mat\")\n",
    "cars_train_dir = os.path.join(DATASET_DIR, \"cars_train\")\n",
    "cars_test_dir = os.path.join(DATASET_DIR, \"cars_test\")\n",
    "\n",
    "assert os.path.isfile(cars_meta)\n",
    "assert os.path.isfile(cars_test_annos)\n",
    "assert os.path.isfile(cars_train_annos)\n",
    "assert os.path.isdir(cars_train_dir)\n",
    "assert os.path.isdir(cars_test_dir)"
   ]
  },
  {
   "cell_type": "code",
   "execution_count": 3,
   "metadata": {},
   "outputs": [],
   "source": [
    "# (filenames, boxes, classes)\n",
    "train_annos = load_annotations(cars_train_annos)"
   ]
  },
  {
   "cell_type": "code",
   "execution_count": 9,
   "metadata": {},
   "outputs": [],
   "source": [
    "for filename in os.listdir(cars_train_dir):\n",
    "    fullname = os.path.join(cars_train_dir, filename)\n",
    "    _filename = train_annos[0]\n",
    "    _box = train_annos[1]\n",
    "    _class = train_annos[2]\n",
    "\n",
    "    # Load image\n",
    "    img = cv2.imread(fullname)\n",
    "\n",
    "    # Get index of annotation\n",
    "    index = np.where(_filename == filename)[0][0]\n",
    "\n",
    "    # Create save folder\n",
    "    save_dir = os.path.join(OUTPUT_DIR, \"cars_train\")\n",
    "    if not os.path.isdir(save_dir):\n",
    "        os.makedirs(save_dir)\n",
    "    \n",
    "    # Draw box and save image\n",
    "    save_fullname = os.path.join(save_dir, _filename[index])\n",
    "    x1, y1, x2, y2 = _box[index]\n",
    "    cv2.rectangle(img,(x1, y1),(x2, y2),(0, 255, 0), 2)\n",
    "    cv2.imwrite(save_fullname, img)"
   ]
  },
  {
   "cell_type": "code",
   "execution_count": null,
   "metadata": {},
   "outputs": [],
   "source": []
  }
 ],
 "metadata": {
  "kernelspec": {
   "display_name": "Python 3",
   "language": "python",
   "name": "python3"
  },
  "language_info": {
   "codemirror_mode": {
    "name": "ipython",
    "version": 3
   },
   "file_extension": ".py",
   "mimetype": "text/x-python",
   "name": "python",
   "nbconvert_exporter": "python",
   "pygments_lexer": "ipython3",
   "version": "3.6.8"
  }
 },
 "nbformat": 4,
 "nbformat_minor": 2
}
